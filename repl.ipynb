{
 "cells": [
  {
   "cell_type": "code",
   "execution_count": 1,
   "metadata": {},
   "outputs": [
    {
     "name": "stdout",
     "output_type": "stream",
     "text": [
      "torch.Size([1, 1600, 1208, 3])\n"
     ]
    }
   ],
   "source": [
    "import torch\n",
    "import torchvision\n",
    "import torchvision.transforms as T\n",
    "from PIL import Image\n",
    "import cv2\n",
    "import numpy as np\n",
    "\n",
    "width = 512\n",
    "height = 512\n",
    "thres_1 = 200\n",
    "thres_2 = 400\n",
    "\n",
    "image = torch.rand(1, 1600, 1208, 3)\n",
    "print(image.shape)\n"
   ]
  },
  {
   "cell_type": "code",
   "execution_count": 5,
   "metadata": {},
   "outputs": [],
   "source": [
    "image_squeeze = image.squeeze_()\n",
    "numpy_image = image_squeeze.numpy()\n",
    "opencv_image = (numpy_image * 255).astype(np.uint8)\n",
    "gray_image = cv2.cvtColor(opencv_image, cv2.COLOR_BGR2GRAY)\n",
    "canny_img = cv2.Canny(gray_image, thres_1, thres_2)"
   ]
  },
  {
   "cell_type": "code",
   "execution_count": 6,
   "metadata": {},
   "outputs": [
    {
     "name": "stdout",
     "output_type": "stream",
     "text": [
      "(1600, 1208)\n"
     ]
    }
   ],
   "source": [
    "print(canny_img.shape)"
   ]
  },
  {
   "cell_type": "code",
   "execution_count": 9,
   "metadata": {},
   "outputs": [
    {
     "name": "stdout",
     "output_type": "stream",
     "text": [
      "torch.Size([1600, 1208])\n",
      "torch.Size([1, 1600, 1208])\n"
     ]
    }
   ],
   "source": [
    "# Convert to a PyTorch tensor\n",
    "canny_tensor = torch.from_numpy(canny_img)\n",
    "print(canny_tensor.shape)\n",
    "canny_tensor = canny_tensor.unsqueeze(0)\n",
    "print(canny_tensor.shape)"
   ]
  },
  {
   "cell_type": "code",
   "execution_count": 4,
   "metadata": {},
   "outputs": [
    {
     "data": {
      "text/plain": [
       "True"
      ]
     },
     "execution_count": 4,
     "metadata": {},
     "output_type": "execute_result"
    }
   ],
   "source": [
    "cv2.imwrite('deneme.png', canny_img)"
   ]
  },
  {
   "cell_type": "code",
   "execution_count": null,
   "metadata": {},
   "outputs": [],
   "source": []
  }
 ],
 "metadata": {
  "kernelspec": {
   "display_name": "torch_env",
   "language": "python",
   "name": "python3"
  },
  "language_info": {
   "codemirror_mode": {
    "name": "ipython",
    "version": 3
   },
   "file_extension": ".py",
   "mimetype": "text/x-python",
   "name": "python",
   "nbconvert_exporter": "python",
   "pygments_lexer": "ipython3",
   "version": "3.10.13"
  }
 },
 "nbformat": 4,
 "nbformat_minor": 2
}
